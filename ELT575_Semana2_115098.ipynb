{
  "nbformat": 4,
  "nbformat_minor": 0,
  "metadata": {
    "colab": {
      "provenance": [],
      "gpuType": "T4"
    },
    "kernelspec": {
      "name": "python3",
      "display_name": "Python 3"
    },
    "language_info": {
      "name": "python"
    },
    "accelerator": "GPU"
  },
  "cells": [
    {
      "cell_type": "markdown",
      "source": [
        "Aluno: Gustavo Teixeira, Matricula 115098"
      ],
      "metadata": {
        "id": "n0MHMTSmqVB6"
      }
    },
    {
      "cell_type": "code",
      "source": [
        "# Imports\n",
        "import numpy as np\n",
        "from matplotlib import pyplot as plt\n",
        "from sklearn.model_selection import KFold\n",
        "from tensorflow.keras.datasets import mnist, cifar10\n",
        "from tensorflow.keras.utils import to_categorical\n",
        "from tensorflow.keras.models import Sequential\n",
        "from tensorflow.keras.layers import Conv2D, MaxPooling2D, Dense, Flatten, Dropout, BatchNormalization\n",
        "from tensorflow.keras.optimizers import Adam\n",
        "\n"
      ],
      "metadata": {
        "id": "MtjNu5sbqUlM"
      },
      "execution_count": 1,
      "outputs": []
    },
    {
      "cell_type": "code",
      "source": [
        "(trainX, trainY), (testX, testY) = cifar10.load_data()\n"
      ],
      "metadata": {
        "colab": {
          "base_uri": "https://localhost:8080/"
        },
        "id": "9YL-x9M0qXfZ",
        "outputId": "498952a8-334f-4cde-cfe8-320dbde5edd4"
      },
      "execution_count": 2,
      "outputs": [
        {
          "output_type": "stream",
          "name": "stdout",
          "text": [
            "Downloading data from https://www.cs.toronto.edu/~kriz/cifar-10-python.tar.gz\n",
            "170498071/170498071 [==============================] - 2s 0us/step\n"
          ]
        }
      ]
    },
    {
      "cell_type": "code",
      "source": [
        "# Convertendo valores dos pixels em float\n",
        "trainX = trainX.astype('float32')\n",
        "testX = testX.astype('float32')\n",
        "\n",
        "# normalização para escala [0-1]\n",
        "trainX = trainX / 255.0\n",
        "testX = testX / 255.0\n",
        "\n",
        "# transformando a variável alvo (target) para uma codificação one hot\n",
        "trainY = to_categorical(trainY)\n",
        "testY = to_categorical(testY)"
      ],
      "metadata": {
        "id": "uuaDgPcQqY1w"
      },
      "execution_count": 3,
      "outputs": []
    },
    {
      "cell_type": "code",
      "source": [
        "def define_model():\n",
        "    model = Sequential()\n",
        "    model.add(Conv2D(32, (3, 3), activation='relu', input_shape=(32, 32, 3)))\n",
        "    model.add(BatchNormalization())\n",
        "    model.add(MaxPooling2D((2, 2)))\n",
        "    model.add(Flatten())\n",
        "    model.add(Dense(100, activation='relu'))\n",
        "    model.add(Dense(10, activation='softmax'))\n",
        "\n",
        "    opt = Adam(learning_rate=0.001)\n",
        "    model.compile(optimizer=opt, loss='categorical_crossentropy', metrics=['accuracy'])\n",
        "    return model"
      ],
      "metadata": {
        "id": "s9F45Q82qalG"
      },
      "execution_count": 10,
      "outputs": []
    },
    {
      "cell_type": "code",
      "source": [
        "## Configurar o encerramento do treinamento quando o val_loss nao melhora\n",
        "from tensorflow.python.keras.callbacks import EarlyStopping\n",
        "\n",
        "callback = EarlyStopping(monitor='val_loss', patience=3, restore_best_weights=True)"
      ],
      "metadata": {
        "id": "kI3VxFBzqbtP"
      },
      "execution_count": 8,
      "outputs": []
    },
    {
      "cell_type": "code",
      "source": [
        "scores = []\n",
        "histories = []\n",
        "\n",
        "# definindo a validação k-fold\n",
        "kfold = KFold(5, shuffle=True, random_state=1)\n",
        "\n",
        "# loop para as k-folds (cada fold usa subconjuntos de treino e teste diferentes)\n",
        "for train_ix, test_ix in kfold.split(trainX):\n",
        "\n",
        "    model = define_model()\n",
        "\n",
        "    # recorta dados de acordo com índices da k-fold\n",
        "    train_data, train_target, val_data, val_target = trainX[train_ix], trainY[train_ix], trainX[test_ix], trainY[test_ix]\n",
        "\n",
        "    # treinamento do modelo\n",
        "    history = model.fit(train_data, train_target,\n",
        "                        epochs=10, batch_size=32,\n",
        "                        validation_data=(val_data, val_target),\n",
        "                        verbose=1)\n",
        "\n",
        "    # desempenho do modelo\n",
        "    _, acc = model.evaluate(val_data, val_target, verbose=0)\n",
        "    print('> %.3f' % (acc * 100.0))\n",
        "\n",
        "    # armazena resultados de cada modelo treinado dentro da k-fold\n",
        "    scores.append(acc)\n",
        "    histories.append(history)\n",
        "\n",
        "print('Acurácia: média=%.3f desvio=%.3f' % (np.mean(scores)*100, np.std(scores)*100))\n",
        "plt.boxplot(scores)\n",
        "plt.show()"
      ],
      "metadata": {
        "colab": {
          "base_uri": "https://localhost:8080/",
          "height": 1000
        },
        "id": "LCXcVBdNqcXQ",
        "outputId": "68b45d9a-c3e0-4d31-960c-4c3dbfbbb21a"
      },
      "execution_count": 11,
      "outputs": [
        {
          "output_type": "stream",
          "name": "stdout",
          "text": [
            "Epoch 1/10\n",
            "1250/1250 [==============================] - 18s 5ms/step - loss: 1.3779 - accuracy: 0.5179 - val_loss: 1.2355 - val_accuracy: 0.5571\n",
            "Epoch 2/10\n",
            "1250/1250 [==============================] - 5s 4ms/step - loss: 1.0080 - accuracy: 0.6483 - val_loss: 1.1592 - val_accuracy: 0.5926\n",
            "Epoch 3/10\n",
            "1250/1250 [==============================] - 6s 4ms/step - loss: 0.8122 - accuracy: 0.7147 - val_loss: 1.1490 - val_accuracy: 0.6153\n",
            "Epoch 4/10\n",
            "1250/1250 [==============================] - 5s 4ms/step - loss: 0.6341 - accuracy: 0.7790 - val_loss: 1.3516 - val_accuracy: 0.6007\n",
            "Epoch 5/10\n",
            "1250/1250 [==============================] - 6s 4ms/step - loss: 0.4850 - accuracy: 0.8323 - val_loss: 1.4665 - val_accuracy: 0.6105\n",
            "Epoch 6/10\n",
            "1250/1250 [==============================] - 6s 5ms/step - loss: 0.3594 - accuracy: 0.8740 - val_loss: 1.5212 - val_accuracy: 0.6128\n",
            "Epoch 7/10\n",
            "1250/1250 [==============================] - 5s 4ms/step - loss: 0.2688 - accuracy: 0.9063 - val_loss: 1.9954 - val_accuracy: 0.5921\n",
            "Epoch 8/10\n",
            "1250/1250 [==============================] - 6s 5ms/step - loss: 0.2123 - accuracy: 0.9268 - val_loss: 2.0661 - val_accuracy: 0.5933\n",
            "Epoch 9/10\n",
            "1250/1250 [==============================] - 5s 4ms/step - loss: 0.1733 - accuracy: 0.9407 - val_loss: 2.3496 - val_accuracy: 0.5797\n",
            "Epoch 10/10\n",
            "1250/1250 [==============================] - 6s 5ms/step - loss: 0.1517 - accuracy: 0.9481 - val_loss: 2.6174 - val_accuracy: 0.5769\n",
            "> 57.690\n",
            "Epoch 1/10\n",
            "1250/1250 [==============================] - 9s 5ms/step - loss: 1.3762 - accuracy: 0.5161 - val_loss: 1.1801 - val_accuracy: 0.5871\n",
            "Epoch 2/10\n",
            "1250/1250 [==============================] - 6s 5ms/step - loss: 0.9923 - accuracy: 0.6504 - val_loss: 1.1586 - val_accuracy: 0.6036\n",
            "Epoch 3/10\n",
            "1250/1250 [==============================] - 6s 4ms/step - loss: 0.7808 - accuracy: 0.7267 - val_loss: 1.1834 - val_accuracy: 0.6191\n",
            "Epoch 4/10\n",
            "1250/1250 [==============================] - 5s 4ms/step - loss: 0.5874 - accuracy: 0.7946 - val_loss: 1.4209 - val_accuracy: 0.5849\n",
            "Epoch 5/10\n",
            "1250/1250 [==============================] - 6s 5ms/step - loss: 0.4488 - accuracy: 0.8424 - val_loss: 1.4345 - val_accuracy: 0.5986\n",
            "Epoch 6/10\n",
            "1250/1250 [==============================] - 5s 4ms/step - loss: 0.3078 - accuracy: 0.8915 - val_loss: 1.6703 - val_accuracy: 0.6139\n",
            "Epoch 7/10\n",
            "1250/1250 [==============================] - 6s 5ms/step - loss: 0.2241 - accuracy: 0.9224 - val_loss: 2.2844 - val_accuracy: 0.5853\n",
            "Epoch 8/10\n",
            "1250/1250 [==============================] - 6s 5ms/step - loss: 0.1939 - accuracy: 0.9342 - val_loss: 2.3458 - val_accuracy: 0.5943\n",
            "Epoch 9/10\n",
            "1250/1250 [==============================] - 6s 5ms/step - loss: 0.1619 - accuracy: 0.9449 - val_loss: 2.4007 - val_accuracy: 0.5874\n",
            "Epoch 10/10\n",
            "1250/1250 [==============================] - 6s 4ms/step - loss: 0.1377 - accuracy: 0.9532 - val_loss: 2.4457 - val_accuracy: 0.6088\n",
            "> 60.880\n",
            "Epoch 1/10\n",
            "1250/1250 [==============================] - 8s 4ms/step - loss: 1.3815 - accuracy: 0.5138 - val_loss: 1.3556 - val_accuracy: 0.5204\n",
            "Epoch 2/10\n",
            "1250/1250 [==============================] - 6s 4ms/step - loss: 1.0261 - accuracy: 0.6395 - val_loss: 1.1845 - val_accuracy: 0.5980\n",
            "Epoch 3/10\n",
            "1250/1250 [==============================] - 6s 5ms/step - loss: 0.8290 - accuracy: 0.7092 - val_loss: 1.1674 - val_accuracy: 0.6125\n",
            "Epoch 4/10\n",
            "1250/1250 [==============================] - 5s 4ms/step - loss: 0.6463 - accuracy: 0.7743 - val_loss: 1.6935 - val_accuracy: 0.5275\n",
            "Epoch 5/10\n",
            "1250/1250 [==============================] - 6s 5ms/step - loss: 0.4947 - accuracy: 0.8255 - val_loss: 1.4513 - val_accuracy: 0.6007\n",
            "Epoch 6/10\n",
            "1250/1250 [==============================] - 6s 5ms/step - loss: 0.3702 - accuracy: 0.8723 - val_loss: 1.7978 - val_accuracy: 0.5894\n",
            "Epoch 7/10\n",
            "1250/1250 [==============================] - 6s 5ms/step - loss: 0.2850 - accuracy: 0.9006 - val_loss: 2.0331 - val_accuracy: 0.5794\n",
            "Epoch 8/10\n",
            "1250/1250 [==============================] - 5s 4ms/step - loss: 0.2271 - accuracy: 0.9205 - val_loss: 2.2431 - val_accuracy: 0.5933\n",
            "Epoch 9/10\n",
            "1250/1250 [==============================] - 6s 5ms/step - loss: 0.1843 - accuracy: 0.9382 - val_loss: 2.3421 - val_accuracy: 0.5811\n",
            "Epoch 10/10\n",
            "1250/1250 [==============================] - 5s 4ms/step - loss: 0.1653 - accuracy: 0.9445 - val_loss: 3.0597 - val_accuracy: 0.5661\n",
            "> 56.610\n",
            "Epoch 1/10\n",
            "1250/1250 [==============================] - 8s 5ms/step - loss: 1.4035 - accuracy: 0.5072 - val_loss: 1.2204 - val_accuracy: 0.5715\n",
            "Epoch 2/10\n",
            "1250/1250 [==============================] - 6s 5ms/step - loss: 1.0206 - accuracy: 0.6385 - val_loss: 1.2825 - val_accuracy: 0.5693\n",
            "Epoch 3/10\n",
            "1250/1250 [==============================] - 5s 4ms/step - loss: 0.7995 - accuracy: 0.7192 - val_loss: 1.2764 - val_accuracy: 0.5618\n",
            "Epoch 4/10\n",
            "1250/1250 [==============================] - 5s 4ms/step - loss: 0.6188 - accuracy: 0.7857 - val_loss: 1.5714 - val_accuracy: 0.5571\n",
            "Epoch 5/10\n",
            "1250/1250 [==============================] - 6s 5ms/step - loss: 0.4557 - accuracy: 0.8390 - val_loss: 1.9465 - val_accuracy: 0.5567\n",
            "Epoch 6/10\n",
            "1250/1250 [==============================] - 5s 4ms/step - loss: 0.3447 - accuracy: 0.8806 - val_loss: 1.6399 - val_accuracy: 0.6069\n",
            "Epoch 7/10\n",
            "1250/1250 [==============================] - 6s 5ms/step - loss: 0.2546 - accuracy: 0.9134 - val_loss: 1.9363 - val_accuracy: 0.5918\n",
            "Epoch 8/10\n",
            "1250/1250 [==============================] - 6s 4ms/step - loss: 0.2083 - accuracy: 0.9290 - val_loss: 2.0137 - val_accuracy: 0.5896\n",
            "Epoch 9/10\n",
            "1250/1250 [==============================] - 7s 5ms/step - loss: 0.1597 - accuracy: 0.9450 - val_loss: 2.3427 - val_accuracy: 0.5986\n",
            "Epoch 10/10\n",
            "1250/1250 [==============================] - 5s 4ms/step - loss: 0.1453 - accuracy: 0.9498 - val_loss: 2.6831 - val_accuracy: 0.5947\n",
            "> 59.470\n",
            "Epoch 1/10\n",
            "1250/1250 [==============================] - 8s 5ms/step - loss: 1.3653 - accuracy: 0.5199 - val_loss: 1.3366 - val_accuracy: 0.5189\n",
            "Epoch 2/10\n",
            "1250/1250 [==============================] - 6s 5ms/step - loss: 1.0040 - accuracy: 0.6449 - val_loss: 1.2516 - val_accuracy: 0.5592\n",
            "Epoch 3/10\n",
            "1250/1250 [==============================] - 6s 4ms/step - loss: 0.7835 - accuracy: 0.7236 - val_loss: 1.2085 - val_accuracy: 0.6095\n",
            "Epoch 4/10\n",
            "1250/1250 [==============================] - 6s 5ms/step - loss: 0.5971 - accuracy: 0.7927 - val_loss: 1.2335 - val_accuracy: 0.6187\n",
            "Epoch 5/10\n",
            "1250/1250 [==============================] - 6s 5ms/step - loss: 0.4330 - accuracy: 0.8488 - val_loss: 1.5715 - val_accuracy: 0.5871\n",
            "Epoch 6/10\n",
            "1250/1250 [==============================] - 6s 4ms/step - loss: 0.3150 - accuracy: 0.8930 - val_loss: 1.7735 - val_accuracy: 0.6056\n",
            "Epoch 7/10\n",
            "1250/1250 [==============================] - 6s 5ms/step - loss: 0.2435 - accuracy: 0.9168 - val_loss: 2.0692 - val_accuracy: 0.5832\n",
            "Epoch 8/10\n",
            "1250/1250 [==============================] - 6s 4ms/step - loss: 0.1919 - accuracy: 0.9345 - val_loss: 2.3889 - val_accuracy: 0.5557\n",
            "Epoch 9/10\n",
            "1250/1250 [==============================] - 6s 5ms/step - loss: 0.1653 - accuracy: 0.9456 - val_loss: 2.5807 - val_accuracy: 0.5881\n",
            "Epoch 10/10\n",
            "1250/1250 [==============================] - 5s 4ms/step - loss: 0.1371 - accuracy: 0.9541 - val_loss: 2.8822 - val_accuracy: 0.5534\n",
            "> 55.340\n",
            "Acurácia: média=57.998 desvio=1.978\n"
          ]
        },
        {
          "output_type": "display_data",
          "data": {
            "text/plain": [
              "<Figure size 640x480 with 1 Axes>"
            ],
            "image/png": "[encoded data removed]"
          },
          "metadata": {}
        }
      ]
    },
    {
      "cell_type": "code",
      "source": [
        "np.argmax(model.predict(np.expand_dims(testX[31], axis=0)))"
      ],
      "metadata": {
        "colab": {
          "base_uri": "https://localhost:8080/"
        },
        "id": "_PozUnPyqg8S",
        "outputId": "c015cad9-ee36-4731-a08a-3c6e789ddd4e"
      },
      "execution_count": 12,
      "outputs": [
        {
          "output_type": "stream",
          "name": "stdout",
          "text": [
            "1/1 [==============================] - 0s 130ms/step\n"
          ]
        },
        {
          "output_type": "execute_result",
          "data": {
            "text/plain": [
              "4"
            ]
          },
          "metadata": {},
          "execution_count": 12
        }
      ]
    },
    {
      "cell_type": "markdown",
      "source": [
        "## Pergunta: Houve muita diferença no desempenho da rede treinada quando comparado ao exemplo?\n",
        "\n",
        "Acurácia: média=57.998 desvio=1.978\n",
        "\n",
        "\n",
        "Sim, houve bastante diferenca. Esse modelo apresentou uma acuracia muito baixa para o dataset cifar10"
      ],
      "metadata": {
        "id": "ROd3DLjcs9fX"
      }
    },
    {
      "cell_type": "markdown",
      "source": [
        "## Realizando alteracao sugerida:\n",
        "Adicionado mais dois blocos de camadas Conv2D (64 filtros 3x3 - relu) + MaxPooling (2 x 2) antes da camada Flatten e compare os resultados"
      ],
      "metadata": {
        "id": "iO3jIkoGtuWY"
      }
    },
    {
      "cell_type": "code",
      "source": [
        "def define_new_model():\n",
        "    model = Sequential()\n",
        "    model.add(Conv2D(32, (3, 3), activation='relu', input_shape=(32, 32, 3)))\n",
        "    model.add(BatchNormalization())\n",
        "    model.add(MaxPooling2D((2, 2)))\n",
        "    model.add(Conv2D(64, (3, 3), activation='relu', input_shape=(32, 32, 3)))\n",
        "    model.add(MaxPooling2D((2, 2)))\n",
        "    model.add(Flatten())\n",
        "    model.add(Dense(100, activation='relu'))\n",
        "    model.add(Dense(10, activation='softmax'))\n",
        "\n",
        "    opt = Adam(learning_rate=0.001)\n",
        "    model.compile(optimizer=opt, loss='categorical_crossentropy', metrics=['accuracy'])\n",
        "    return model"
      ],
      "metadata": {
        "id": "z_loOF0GtIsV"
      },
      "execution_count": 13,
      "outputs": []
    },
    {
      "cell_type": "markdown",
      "source": [
        "### Treinando novamente com a alteracao sugerida\n"
      ],
      "metadata": {
        "id": "FP1BLwostfVq"
      }
    },
    {
      "cell_type": "code",
      "source": [
        "scores = []\n",
        "histories = []\n",
        "\n",
        "# definindo a validação k-fold\n",
        "kfold = KFold(5, shuffle=True, random_state=1)\n",
        "\n",
        "# loop para as k-folds (cada fold usa subconjuntos de treino e teste diferentes)\n",
        "for train_ix, test_ix in kfold.split(trainX):\n",
        "\n",
        "    model = define_new_model()\n",
        "\n",
        "    # recorta dados de acordo com índices da k-fold\n",
        "    train_data, train_target, val_data, val_target = trainX[train_ix], trainY[train_ix], trainX[test_ix], trainY[test_ix]\n",
        "\n",
        "    # treinamento do modelo\n",
        "    history = model.fit(train_data, train_target,\n",
        "                        epochs=10, batch_size=32,\n",
        "                        validation_data=(val_data, val_target),\n",
        "                        verbose=1)\n",
        "\n",
        "    # desempenho do modelo\n",
        "    _, acc = model.evaluate(val_data, val_target, verbose=0)\n",
        "    print('> %.3f' % (acc * 100.0))\n",
        "\n",
        "    # armazena resultados de cada modelo treinado dentro da k-fold\n",
        "    scores.append(acc)\n",
        "    histories.append(history)\n",
        "\n",
        "print('Acurácia: média=%.3f desvio=%.3f' % (np.mean(scores)*100, np.std(scores)*100))\n",
        "plt.boxplot(scores)\n",
        "plt.show()"
      ],
      "metadata": {
        "colab": {
          "base_uri": "https://localhost:8080/",
          "height": 1000
        },
        "id": "0pDkUbUethl_",
        "outputId": "51dbf506-c619-4866-e8f0-3f8b46ab27bc"
      },
      "execution_count": 14,
      "outputs": [
        {
          "output_type": "stream",
          "name": "stdout",
          "text": [
            "Epoch 1/10\n",
            "1250/1250 [==============================] - 10s 7ms/step - loss: 1.3316 - accuracy: 0.5254 - val_loss: 1.4548 - val_accuracy: 0.4840\n",
            "Epoch 2/10\n",
            "1250/1250 [==============================] - 7s 6ms/step - loss: 0.9997 - accuracy: 0.6503 - val_loss: 1.0887 - val_accuracy: 0.6186\n",
            "Epoch 3/10\n",
            "1250/1250 [==============================] - 6s 5ms/step - loss: 0.8537 - accuracy: 0.6999 - val_loss: 1.0650 - val_accuracy: 0.6343\n",
            "Epoch 4/10\n",
            "1250/1250 [==============================] - 7s 6ms/step - loss: 0.7502 - accuracy: 0.7390 - val_loss: 1.0640 - val_accuracy: 0.6426\n",
            "Epoch 5/10\n",
            "1250/1250 [==============================] - 6s 5ms/step - loss: 0.6613 - accuracy: 0.7710 - val_loss: 1.0193 - val_accuracy: 0.6604\n",
            "Epoch 6/10\n",
            "1250/1250 [==============================] - 7s 6ms/step - loss: 0.5746 - accuracy: 0.8000 - val_loss: 1.5507 - val_accuracy: 0.5807\n",
            "Epoch 7/10\n",
            "1250/1250 [==============================] - 7s 5ms/step - loss: 0.5047 - accuracy: 0.8217 - val_loss: 1.0814 - val_accuracy: 0.6697\n",
            "Epoch 8/10\n",
            "1250/1250 [==============================] - 7s 6ms/step - loss: 0.4325 - accuracy: 0.8479 - val_loss: 1.1146 - val_accuracy: 0.6804\n",
            "Epoch 9/10\n",
            "1250/1250 [==============================] - 6s 5ms/step - loss: 0.3814 - accuracy: 0.8655 - val_loss: 1.1374 - val_accuracy: 0.6703\n",
            "Epoch 10/10\n",
            "1250/1250 [==============================] - 7s 5ms/step - loss: 0.3258 - accuracy: 0.8844 - val_loss: 1.3475 - val_accuracy: 0.6638\n",
            "> 66.380\n",
            "Epoch 1/10\n",
            "1250/1250 [==============================] - 9s 5ms/step - loss: 1.3074 - accuracy: 0.5345 - val_loss: 1.1237 - val_accuracy: 0.6076\n",
            "Epoch 2/10\n",
            "1250/1250 [==============================] - 7s 5ms/step - loss: 0.9775 - accuracy: 0.6582 - val_loss: 1.2091 - val_accuracy: 0.5924\n",
            "Epoch 3/10\n",
            "1250/1250 [==============================] - 6s 5ms/step - loss: 0.8342 - accuracy: 0.7093 - val_loss: 0.9580 - val_accuracy: 0.6707\n",
            "Epoch 4/10\n",
            "1250/1250 [==============================] - 6s 5ms/step - loss: 0.7261 - accuracy: 0.7463 - val_loss: 1.0418 - val_accuracy: 0.6694\n",
            "Epoch 5/10\n",
            "1250/1250 [==============================] - 6s 5ms/step - loss: 0.6366 - accuracy: 0.7771 - val_loss: 1.0884 - val_accuracy: 0.6514\n",
            "Epoch 6/10\n",
            "1250/1250 [==============================] - 6s 5ms/step - loss: 0.5561 - accuracy: 0.8048 - val_loss: 1.1707 - val_accuracy: 0.6519\n",
            "Epoch 7/10\n",
            "1250/1250 [==============================] - 6s 5ms/step - loss: 0.4786 - accuracy: 0.8328 - val_loss: 1.1002 - val_accuracy: 0.6751\n",
            "Epoch 8/10\n",
            "1250/1250 [==============================] - 7s 5ms/step - loss: 0.4175 - accuracy: 0.8531 - val_loss: 1.1978 - val_accuracy: 0.6814\n",
            "Epoch 9/10\n",
            "1250/1250 [==============================] - 6s 5ms/step - loss: 0.3527 - accuracy: 0.8741 - val_loss: 1.2431 - val_accuracy: 0.6753\n",
            "Epoch 10/10\n",
            "1250/1250 [==============================] - 7s 6ms/step - loss: 0.3052 - accuracy: 0.8917 - val_loss: 1.6334 - val_accuracy: 0.6147\n",
            "> 61.470\n",
            "Epoch 1/10\n",
            "1250/1250 [==============================] - 9s 6ms/step - loss: 1.3081 - accuracy: 0.5347 - val_loss: 1.6237 - val_accuracy: 0.4940\n",
            "Epoch 2/10\n",
            "1250/1250 [==============================] - 6s 5ms/step - loss: 0.9677 - accuracy: 0.6615 - val_loss: 1.2150 - val_accuracy: 0.5908\n",
            "Epoch 3/10\n",
            "1250/1250 [==============================] - 6s 5ms/step - loss: 0.8281 - accuracy: 0.7117 - val_loss: 1.0965 - val_accuracy: 0.6264\n",
            "Epoch 4/10\n",
            "1250/1250 [==============================] - 6s 5ms/step - loss: 0.7288 - accuracy: 0.7461 - val_loss: 1.0534 - val_accuracy: 0.6490\n",
            "Epoch 5/10\n",
            "1250/1250 [==============================] - 6s 5ms/step - loss: 0.6397 - accuracy: 0.7765 - val_loss: 2.4034 - val_accuracy: 0.3330\n",
            "Epoch 6/10\n",
            "1250/1250 [==============================] - 6s 5ms/step - loss: 0.5690 - accuracy: 0.8013 - val_loss: 1.2355 - val_accuracy: 0.6067\n",
            "Epoch 7/10\n",
            "1250/1250 [==============================] - 6s 5ms/step - loss: 0.4927 - accuracy: 0.8256 - val_loss: 1.0670 - val_accuracy: 0.6815\n",
            "Epoch 8/10\n",
            "1250/1250 [==============================] - 6s 5ms/step - loss: 0.4334 - accuracy: 0.8454 - val_loss: 1.1436 - val_accuracy: 0.6709\n",
            "Epoch 9/10\n",
            "1250/1250 [==============================] - 6s 5ms/step - loss: 0.3730 - accuracy: 0.8683 - val_loss: 1.1976 - val_accuracy: 0.6716\n",
            "Epoch 10/10\n",
            "1250/1250 [==============================] - 6s 5ms/step - loss: 0.3288 - accuracy: 0.8836 - val_loss: 1.3925 - val_accuracy: 0.6582\n",
            "> 65.820\n",
            "Epoch 1/10\n",
            "1250/1250 [==============================] - 9s 5ms/step - loss: 1.3307 - accuracy: 0.5259 - val_loss: 1.2221 - val_accuracy: 0.5810\n",
            "Epoch 2/10\n",
            "1250/1250 [==============================] - 7s 5ms/step - loss: 0.9757 - accuracy: 0.6601 - val_loss: 1.0398 - val_accuracy: 0.6383\n",
            "Epoch 3/10\n",
            "1250/1250 [==============================] - 6s 5ms/step - loss: 0.8351 - accuracy: 0.7075 - val_loss: 1.0283 - val_accuracy: 0.6541\n",
            "Epoch 4/10\n",
            "1250/1250 [==============================] - 7s 6ms/step - loss: 0.7233 - accuracy: 0.7469 - val_loss: 1.2155 - val_accuracy: 0.6120\n",
            "Epoch 5/10\n",
            "1250/1250 [==============================] - 7s 5ms/step - loss: 0.6318 - accuracy: 0.7777 - val_loss: 1.0948 - val_accuracy: 0.6613\n",
            "Epoch 6/10\n",
            "1250/1250 [==============================] - 7s 5ms/step - loss: 0.5601 - accuracy: 0.8047 - val_loss: 1.0499 - val_accuracy: 0.6719\n",
            "Epoch 7/10\n",
            "1250/1250 [==============================] - 6s 5ms/step - loss: 0.4886 - accuracy: 0.8280 - val_loss: 1.0981 - val_accuracy: 0.6742\n",
            "Epoch 8/10\n",
            "1250/1250 [==============================] - 6s 5ms/step - loss: 0.4295 - accuracy: 0.8492 - val_loss: 1.1240 - val_accuracy: 0.6744\n",
            "Epoch 9/10\n",
            "1250/1250 [==============================] - 6s 5ms/step - loss: 0.3698 - accuracy: 0.8679 - val_loss: 1.1767 - val_accuracy: 0.6904\n",
            "Epoch 10/10\n",
            "1250/1250 [==============================] - 7s 5ms/step - loss: 0.3306 - accuracy: 0.8819 - val_loss: 1.2825 - val_accuracy: 0.6781\n",
            "> 67.810\n",
            "Epoch 1/10\n",
            "1250/1250 [==============================] - 9s 5ms/step - loss: 1.3176 - accuracy: 0.5309 - val_loss: 1.4026 - val_accuracy: 0.5237\n",
            "Epoch 2/10\n",
            "1250/1250 [==============================] - 6s 5ms/step - loss: 0.9901 - accuracy: 0.6522 - val_loss: 0.9942 - val_accuracy: 0.6499\n",
            "Epoch 3/10\n",
            "1250/1250 [==============================] - 6s 5ms/step - loss: 0.8354 - accuracy: 0.7070 - val_loss: 1.1286 - val_accuracy: 0.6200\n",
            "Epoch 4/10\n",
            "1250/1250 [==============================] - 6s 5ms/step - loss: 0.7299 - accuracy: 0.7459 - val_loss: 0.9827 - val_accuracy: 0.6784\n",
            "Epoch 5/10\n",
            "1250/1250 [==============================] - 6s 5ms/step - loss: 0.6394 - accuracy: 0.7772 - val_loss: 1.1003 - val_accuracy: 0.6441\n",
            "Epoch 6/10\n",
            "1250/1250 [==============================] - 7s 6ms/step - loss: 0.5626 - accuracy: 0.8042 - val_loss: 1.0224 - val_accuracy: 0.6781\n",
            "Epoch 7/10\n",
            "1250/1250 [==============================] - 6s 5ms/step - loss: 0.4867 - accuracy: 0.8293 - val_loss: 1.2731 - val_accuracy: 0.6427\n",
            "Epoch 8/10\n",
            "1250/1250 [==============================] - 7s 6ms/step - loss: 0.4246 - accuracy: 0.8509 - val_loss: 1.2481 - val_accuracy: 0.6433\n",
            "Epoch 9/10\n",
            "1250/1250 [==============================] - 6s 5ms/step - loss: 0.3667 - accuracy: 0.8716 - val_loss: 1.2158 - val_accuracy: 0.6818\n",
            "Epoch 10/10\n",
            "1250/1250 [==============================] - 6s 5ms/step - loss: 0.3152 - accuracy: 0.8890 - val_loss: 1.2839 - val_accuracy: 0.6658\n",
            "> 66.580\n",
            "Acurácia: média=65.612 desvio=2.171\n"
          ]
        },
        {
          "output_type": "display_data",
          "data": {
            "text/plain": [
              "<Figure size 640x480 with 1 Axes>"
            ],
            "image/png": "[encoded data removed]"
          },
          "metadata": {}
        }
      ]
    },
    {
      "cell_type": "markdown",
      "source": [
        "### Compare os resultados\n",
        "\n",
        "Acurácia: média=65.612 desvio=2.171\n",
        "\n",
        "Ao adicionar as camadas extras de Conv2D e MaxPooling, obteve-se um desempenhor melhor para o dataset cifar10, pois ela foi mais capaz de extrair características complexas das imagens, levando a um desempenho melhor na tarefa de classificação.\n"
      ],
      "metadata": {
        "id": "tbU5fUiKvIjw"
      }
    },
    {
      "cell_type": "markdown",
      "source": [
        "## Adicionando Dropout"
      ],
      "metadata": {
        "id": "9cMAXfIMvwXt"
      }
    },
    {
      "cell_type": "code",
      "source": [
        "def define_new_model_com_dropout():\n",
        "    model = Sequential()\n",
        "    model.add(Conv2D(32, (3, 3), activation='relu', input_shape=(32, 32, 3)))\n",
        "    model.add(BatchNormalization())\n",
        "    model.add(MaxPooling2D((2, 2)))\n",
        "    model.add(Dropout(0.2))  # Adicionando Dropout\n",
        "\n",
        "    model.add(Conv2D(64, (3, 3), activation='relu', input_shape=(32, 32, 3)))\n",
        "    model.add(MaxPooling2D((2, 2)))\n",
        "    model.add(Dropout(0.2))  # Adicionando Dropout\n",
        "\n",
        "    model.add(Flatten())\n",
        "    model.add(Dense(100, activation='relu'))\n",
        "    model.add(Dense(10, activation='softmax'))\n",
        "\n",
        "    opt = Adam(learning_rate=0.001)\n",
        "    model.compile(optimizer=opt, loss='categorical_crossentropy', metrics=['accuracy'])\n",
        "    return model"
      ],
      "metadata": {
        "id": "VdYf96wPv0X3"
      },
      "execution_count": 15,
      "outputs": []
    },
    {
      "cell_type": "code",
      "source": [
        "scores = []\n",
        "histories = []\n",
        "\n",
        "# definindo a validação k-fold\n",
        "kfold = KFold(5, shuffle=True, random_state=1)\n",
        "\n",
        "# loop para as k-folds (cada fold usa subconjuntos de treino e teste diferentes)\n",
        "for train_ix, test_ix in kfold.split(trainX):\n",
        "\n",
        "    model = define_new_model_com_dropout()\n",
        "\n",
        "    # recorta dados de acordo com índices da k-fold\n",
        "    train_data, train_target, val_data, val_target = trainX[train_ix], trainY[train_ix], trainX[test_ix], trainY[test_ix]\n",
        "\n",
        "    # treinamento do modelo\n",
        "    history = model.fit(train_data, train_target,\n",
        "                        epochs=10, batch_size=32,\n",
        "                        validation_data=(val_data, val_target),\n",
        "                        verbose=1)\n",
        "\n",
        "    # desempenho do modelo\n",
        "    _, acc = model.evaluate(val_data, val_target, verbose=0)\n",
        "    print('> %.3f' % (acc * 100.0))\n",
        "\n",
        "    # armazena resultados de cada modelo treinado dentro da k-fold\n",
        "    scores.append(acc)\n",
        "    histories.append(history)\n",
        "\n",
        "print('Acurácia: média=%.3f desvio=%.3f' % (np.mean(scores)*100, np.std(scores)*100))\n",
        "plt.boxplot(scores)\n",
        "plt.show()"
      ],
      "metadata": {
        "colab": {
          "base_uri": "https://localhost:8080/",
          "height": 1000
        },
        "id": "GhVfmO18v22z",
        "outputId": "15564501-e58e-41db-ea97-b5b884783d3f"
      },
      "execution_count": 16,
      "outputs": [
        {
          "output_type": "stream",
          "name": "stdout",
          "text": [
            "Epoch 1/10\n",
            "1250/1250 [==============================] - 9s 5ms/step - loss: 1.4268 - accuracy: 0.4906 - val_loss: 1.2745 - val_accuracy: 0.5566\n",
            "Epoch 2/10\n",
            "1250/1250 [==============================] - 6s 5ms/step - loss: 1.1003 - accuracy: 0.6138 - val_loss: 1.0828 - val_accuracy: 0.6194\n",
            "Epoch 3/10\n",
            "1250/1250 [==============================] - 7s 6ms/step - loss: 0.9814 - accuracy: 0.6556 - val_loss: 1.0655 - val_accuracy: 0.6287\n",
            "Epoch 4/10\n",
            "1250/1250 [==============================] - 6s 5ms/step - loss: 0.9016 - accuracy: 0.6848 - val_loss: 1.0855 - val_accuracy: 0.6155\n",
            "Epoch 5/10\n",
            "1250/1250 [==============================] - 8s 6ms/step - loss: 0.8491 - accuracy: 0.7024 - val_loss: 1.0172 - val_accuracy: 0.6437\n",
            "Epoch 6/10\n",
            "1250/1250 [==============================] - 7s 5ms/step - loss: 0.7999 - accuracy: 0.7165 - val_loss: 0.9229 - val_accuracy: 0.6776\n",
            "Epoch 7/10\n",
            "1250/1250 [==============================] - 7s 5ms/step - loss: 0.7634 - accuracy: 0.7331 - val_loss: 0.9215 - val_accuracy: 0.6846\n",
            "Epoch 8/10\n",
            "1250/1250 [==============================] - 7s 6ms/step - loss: 0.7266 - accuracy: 0.7444 - val_loss: 0.8815 - val_accuracy: 0.6953\n",
            "Epoch 9/10\n",
            "1250/1250 [==============================] - 7s 6ms/step - loss: 0.6984 - accuracy: 0.7536 - val_loss: 1.0460 - val_accuracy: 0.6619\n",
            "Epoch 10/10\n",
            "1250/1250 [==============================] - 7s 6ms/step - loss: 0.6730 - accuracy: 0.7596 - val_loss: 0.8679 - val_accuracy: 0.7040\n",
            "> 70.400\n",
            "Epoch 1/10\n",
            "1250/1250 [==============================] - 9s 6ms/step - loss: 1.4441 - accuracy: 0.4828 - val_loss: 1.3532 - val_accuracy: 0.5322\n",
            "Epoch 2/10\n",
            "1250/1250 [==============================] - 7s 6ms/step - loss: 1.1164 - accuracy: 0.6079 - val_loss: 1.0527 - val_accuracy: 0.6259\n",
            "Epoch 3/10\n",
            "1250/1250 [==============================] - 7s 6ms/step - loss: 0.9994 - accuracy: 0.6497 - val_loss: 1.0658 - val_accuracy: 0.6255\n",
            "Epoch 4/10\n",
            "1250/1250 [==============================] - 6s 5ms/step - loss: 0.9188 - accuracy: 0.6774 - val_loss: 0.9589 - val_accuracy: 0.6720\n",
            "Epoch 5/10\n",
            "1250/1250 [==============================] - 6s 5ms/step - loss: 0.8663 - accuracy: 0.6952 - val_loss: 0.9409 - val_accuracy: 0.6780\n",
            "Epoch 6/10\n",
            "1250/1250 [==============================] - 6s 5ms/step - loss: 0.8228 - accuracy: 0.7095 - val_loss: 1.1741 - val_accuracy: 0.5997\n",
            "Epoch 7/10\n",
            "1250/1250 [==============================] - 6s 5ms/step - loss: 0.7831 - accuracy: 0.7211 - val_loss: 0.9472 - val_accuracy: 0.6749\n",
            "Epoch 8/10\n",
            "1250/1250 [==============================] - 6s 5ms/step - loss: 0.7482 - accuracy: 0.7369 - val_loss: 1.3402 - val_accuracy: 0.6007\n",
            "Epoch 9/10\n",
            "1250/1250 [==============================] - 7s 5ms/step - loss: 0.7140 - accuracy: 0.7468 - val_loss: 0.8400 - val_accuracy: 0.7153\n",
            "Epoch 10/10\n",
            "1250/1250 [==============================] - 7s 6ms/step - loss: 0.6938 - accuracy: 0.7556 - val_loss: 0.8502 - val_accuracy: 0.7123\n",
            "> 71.230\n",
            "Epoch 1/10\n",
            "1250/1250 [==============================] - 9s 6ms/step - loss: 1.4374 - accuracy: 0.4809 - val_loss: 1.3220 - val_accuracy: 0.5325\n",
            "Epoch 2/10\n",
            "1250/1250 [==============================] - 6s 5ms/step - loss: 1.1105 - accuracy: 0.6060 - val_loss: 1.1393 - val_accuracy: 0.6035\n",
            "Epoch 3/10\n",
            "1250/1250 [==============================] - 7s 5ms/step - loss: 1.0004 - accuracy: 0.6515 - val_loss: 1.0236 - val_accuracy: 0.6444\n",
            "Epoch 4/10\n",
            "1250/1250 [==============================] - 6s 5ms/step - loss: 0.9224 - accuracy: 0.6764 - val_loss: 1.1204 - val_accuracy: 0.6133\n",
            "Epoch 5/10\n",
            "1250/1250 [==============================] - 7s 6ms/step - loss: 0.8679 - accuracy: 0.6984 - val_loss: 1.0016 - val_accuracy: 0.6577\n",
            "Epoch 6/10\n",
            "1250/1250 [==============================] - 6s 5ms/step - loss: 0.8292 - accuracy: 0.7091 - val_loss: 0.9401 - val_accuracy: 0.6732\n",
            "Epoch 7/10\n",
            "1250/1250 [==============================] - 6s 5ms/step - loss: 0.7860 - accuracy: 0.7258 - val_loss: 0.8848 - val_accuracy: 0.6995\n",
            "Epoch 8/10\n",
            "1250/1250 [==============================] - 6s 5ms/step - loss: 0.7472 - accuracy: 0.7389 - val_loss: 0.8896 - val_accuracy: 0.6999\n",
            "Epoch 9/10\n",
            "1250/1250 [==============================] - 7s 5ms/step - loss: 0.7294 - accuracy: 0.7434 - val_loss: 0.9283 - val_accuracy: 0.6835\n",
            "Epoch 10/10\n",
            "1250/1250 [==============================] - 7s 5ms/step - loss: 0.7024 - accuracy: 0.7530 - val_loss: 0.9375 - val_accuracy: 0.6837\n",
            "> 68.370\n",
            "Epoch 1/10\n",
            "1250/1250 [==============================] - 9s 6ms/step - loss: 1.4328 - accuracy: 0.4854 - val_loss: 1.3520 - val_accuracy: 0.5262\n",
            "Epoch 2/10\n",
            "1250/1250 [==============================] - 6s 5ms/step - loss: 1.1119 - accuracy: 0.6069 - val_loss: 1.0668 - val_accuracy: 0.6241\n",
            "Epoch 3/10\n",
            "1250/1250 [==============================] - 7s 5ms/step - loss: 1.0029 - accuracy: 0.6470 - val_loss: 1.1629 - val_accuracy: 0.5975\n",
            "Epoch 4/10\n",
            "1250/1250 [==============================] - 6s 5ms/step - loss: 0.9444 - accuracy: 0.6691 - val_loss: 0.9434 - val_accuracy: 0.6716\n",
            "Epoch 5/10\n",
            "1250/1250 [==============================] - 7s 6ms/step - loss: 0.8936 - accuracy: 0.6884 - val_loss: 1.0134 - val_accuracy: 0.6467\n",
            "Epoch 6/10\n",
            "1250/1250 [==============================] - 6s 5ms/step - loss: 0.8446 - accuracy: 0.7039 - val_loss: 1.0179 - val_accuracy: 0.6388\n",
            "Epoch 7/10\n",
            "1250/1250 [==============================] - 7s 5ms/step - loss: 0.8099 - accuracy: 0.7186 - val_loss: 1.0464 - val_accuracy: 0.6331\n",
            "Epoch 8/10\n",
            "1250/1250 [==============================] - 6s 5ms/step - loss: 0.7768 - accuracy: 0.7284 - val_loss: 0.8951 - val_accuracy: 0.6956\n",
            "Epoch 9/10\n",
            "1250/1250 [==============================] - 7s 6ms/step - loss: 0.7458 - accuracy: 0.7401 - val_loss: 0.8724 - val_accuracy: 0.7006\n",
            "Epoch 10/10\n",
            "1250/1250 [==============================] - 6s 5ms/step - loss: 0.7064 - accuracy: 0.7513 - val_loss: 0.9507 - val_accuracy: 0.6876\n",
            "> 68.760\n",
            "Epoch 1/10\n",
            "1250/1250 [==============================] - 9s 5ms/step - loss: 1.4454 - accuracy: 0.4812 - val_loss: 1.2162 - val_accuracy: 0.5641\n",
            "Epoch 2/10\n",
            "1250/1250 [==============================] - 6s 5ms/step - loss: 1.1023 - accuracy: 0.6105 - val_loss: 1.3392 - val_accuracy: 0.5557\n",
            "Epoch 3/10\n",
            "1250/1250 [==============================] - 6s 5ms/step - loss: 0.9897 - accuracy: 0.6548 - val_loss: 1.1061 - val_accuracy: 0.6169\n",
            "Epoch 4/10\n",
            "1250/1250 [==============================] - 6s 5ms/step - loss: 0.9180 - accuracy: 0.6820 - val_loss: 1.3734 - val_accuracy: 0.5459\n",
            "Epoch 5/10\n",
            "1250/1250 [==============================] - 7s 6ms/step - loss: 0.8738 - accuracy: 0.6940 - val_loss: 1.0142 - val_accuracy: 0.6475\n",
            "Epoch 6/10\n",
            "1250/1250 [==============================] - 7s 6ms/step - loss: 0.8339 - accuracy: 0.7086 - val_loss: 1.1213 - val_accuracy: 0.6179\n",
            "Epoch 7/10\n",
            "1250/1250 [==============================] - 6s 5ms/step - loss: 0.7995 - accuracy: 0.7208 - val_loss: 1.0406 - val_accuracy: 0.6637\n",
            "Epoch 8/10\n",
            "1250/1250 [==============================] - 6s 5ms/step - loss: 0.7718 - accuracy: 0.7318 - val_loss: 0.9500 - val_accuracy: 0.6693\n",
            "Epoch 9/10\n",
            "1250/1250 [==============================] - 7s 5ms/step - loss: 0.7464 - accuracy: 0.7384 - val_loss: 0.8649 - val_accuracy: 0.6975\n",
            "Epoch 10/10\n",
            "1250/1250 [==============================] - 6s 5ms/step - loss: 0.7205 - accuracy: 0.7489 - val_loss: 1.0464 - val_accuracy: 0.6543\n",
            "> 65.430\n",
            "Acurácia: média=68.838 desvio=2.000\n"
          ]
        },
        {
          "output_type": "display_data",
          "data": {
            "text/plain": [
              "<Figure size 640x480 with 1 Axes>"
            ],
            "image/png": "[encoded data removed]"
          },
          "metadata": {}
        }
      ]
    },
    {
      "cell_type": "markdown",
      "source": [
        "## Comentando os resultados obtidos\n",
        "\n",
        "Acurácia: média=68.838 desvio=2.000\n",
        "\n",
        "\n",
        "Adicionar as camadas de dropout ajudou a melhorar ainda mais (levemente em relacao ao anterior: 65.612) o desempenho do modelo, evitando o overfitting durante o treinamento"
      ],
      "metadata": {
        "id": "MmNIiNbzwLQh"
      }
    }
  ]
}